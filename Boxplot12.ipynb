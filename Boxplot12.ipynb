{
 "cells": [
  {
   "cell_type": "markdown",
   "metadata": {},
   "source": [
    "# Summary of the history of the box plot."
   ]
  },
  {
   "cell_type": "markdown",
   "metadata": {},
   "source": [
    "#### A box plot is a visual represenation of the statistical five number summary a the data set that is given.\n",
    "#### This includes \n",
    "  ####                    1.Minimum\n",
    "  ####                    2.First Quartile\n",
    "  ####                    3.Median (second quartile)\n",
    "  ####                   4. Third quartile\n",
    "  ####                   5. Maximum"
   ]
  },
  {
   "cell_type": "markdown",
   "metadata": {},
   "source": [
    "#### Mathematican John Tukey was the first to introduce the Box and WHisker plot in 1969 to show a visual summery of the five number summary of any given data set. A man called Hadley Williams describes them, he says boxplots use robust summary statistics that are always located at  actual data points, are quickly computable and have no tuning parameters, and are usefull to compare distributions across groups.\n",
    "#### The chartio version is the closest to the original and is used to take a subset of data and quickly and visually show the  five number summary data set. But in the chartio version it has a tool tip is provided that shows all of the data points summarised in the visualisation."
   ]
  },
  {
   "cell_type": "markdown",
   "metadata": {},
   "source": [
    "### Example of a boxplot"
   ]
  },
  {
   "cell_type": "code",
   "execution_count": 19,
   "metadata": {
    "collapsed": true
   },
   "outputs": [],
   "source": [
    "import numpy as np\n",
    "import matplotlib.pyplot as plt\n",
    "\n",
    "# Fixing random state for reproducibility\n",
    "np.random.seed(19680801)\n",
    "\n",
    "# generate random nos in 50s\n",
    "spread = np.random.rand(50) * 120\n",
    "# center boxplot 25 x 50\n",
    "center = np.ones(25) * 50\n",
    "flier_high = np.random.rand(10) * 120 + 120\n",
    "flier_low = np.random.rand(10) * -120\n",
    "data = np.concatenate((spread, center, flier_high, flier_low))"
   ]
  },
  {
   "cell_type": "code",
   "execution_count": 20,
   "metadata": {},
   "outputs": [
    {
     "data": {
      "text/plain": [
       "{'boxes': [<matplotlib.lines.Line2D at 0x8c005c0>],\n",
       " 'caps': [<matplotlib.lines.Line2D at 0x8c0a128>,\n",
       "  <matplotlib.lines.Line2D at 0x8c0a588>],\n",
       " 'fliers': [<matplotlib.lines.Line2D at 0x8c0ae48>],\n",
       " 'means': [],\n",
       " 'medians': [<matplotlib.lines.Line2D at 0x8c0a9e8>],\n",
       " 'whiskers': [<matplotlib.lines.Line2D at 0x8c00748>,\n",
       "  <matplotlib.lines.Line2D at 0x8c00c88>]}"
      ]
     },
     "execution_count": 20,
     "metadata": {},
     "output_type": "execute_result"
    }
   ],
   "source": [
    "# using basic plot\n",
    "fig1, ax1 = plt.subplots()\n",
    "ax1.set_title('Basic Plot')\n",
    "ax1.boxplot(data)"
   ]
  },
  {
   "cell_type": "code",
   "execution_count": 21,
   "metadata": {},
   "outputs": [
    {
     "data": {
      "image/png": "[encoded data removed]",
      "text/plain": [
       "<matplotlib.figure.Figure at 0x8b7ac18>"
      ]
     },
     "metadata": {},
     "output_type": "display_data"
    }
   ],
   "source": [
    "plt.show()"
   ]
  },
  {
   "cell_type": "code",
   "execution_count": 11,
   "metadata": {},
   "outputs": [
    {
     "data": {
      "text/plain": [
       "{'boxes': [<matplotlib.lines.Line2D at 0x88c3710>],\n",
       " 'caps': [<matplotlib.lines.Line2D at 0x88cd278>,\n",
       "  <matplotlib.lines.Line2D at 0x88cd6d8>],\n",
       " 'fliers': [<matplotlib.lines.Line2D at 0x88cdf98>],\n",
       " 'means': [],\n",
       " 'medians': [<matplotlib.lines.Line2D at 0x88cdb38>],\n",
       " 'whiskers': [<matplotlib.lines.Line2D at 0x88c3898>,\n",
       "  <matplotlib.lines.Line2D at 0x88c3dd8>]}"
      ]
     },
     "execution_count": 11,
     "metadata": {},
     "output_type": "execute_result"
    }
   ],
   "source": [
    "# in this one we are using nothced boxes \n",
    "fig2, ax2 = plt.subplots()\n",
    "ax2.set_title('Notched boxes')\n",
    "ax2.boxplot(data, notch=True)"
   ]
  },
  {
   "cell_type": "code",
   "execution_count": 12,
   "metadata": {},
   "outputs": [
    {
     "data": {
      "image/png": "[encoded data removed]",
      "text/plain": [
       "<matplotlib.figure.Figure at 0x881de80>"
      ]
     },
     "metadata": {},
     "output_type": "display_data"
    },
    {
     "data": {
      "image/png": "[encoded data removed]",
      "text/plain": [
       "<matplotlib.figure.Figure at 0x88350b8>"
      ]
     },
     "metadata": {},
     "output_type": "display_data"
    }
   ],
   "source": [
    "plt.show()"
   ]
  },
  {
   "cell_type": "code",
   "execution_count": 14,
   "metadata": {},
   "outputs": [
    {
     "data": {
      "text/plain": [
       "{'boxes': [<matplotlib.lines.Line2D at 0x8b39e80>],\n",
       " 'caps': [<matplotlib.lines.Line2D at 0x8b429e8>,\n",
       "  <matplotlib.lines.Line2D at 0x8b42e48>],\n",
       " 'fliers': [<matplotlib.lines.Line2D at 0x8b4a748>],\n",
       " 'means': [],\n",
       " 'medians': [<matplotlib.lines.Line2D at 0x8b4a2e8>],\n",
       " 'whiskers': [<matplotlib.lines.Line2D at 0x8b42048>,\n",
       "  <matplotlib.lines.Line2D at 0x8b42588>]}"
      ]
     },
     "execution_count": 14,
     "metadata": {},
     "output_type": "execute_result"
    }
   ],
   "source": [
    "green_diamond = dict(markerfacecolor='g', marker='D')\n",
    "fig3, ax3 = plt.subplots()\n",
    "ax3.set_title('Changed Outlier Symbols')\n",
    "ax3.boxplot(data, flierprops=green_diamond)"
   ]
  },
  {
   "cell_type": "code",
   "execution_count": 15,
   "metadata": {},
   "outputs": [
    {
     "data": {
      "image/png": "[encoded data removed]",
      "text/plain": [
       "<matplotlib.figure.Figure at 0x88a08d0>"
      ]
     },
     "metadata": {},
     "output_type": "display_data"
    }
   ],
   "source": [
    "plt.show()"
   ]
  },
  {
   "cell_type": "code",
   "execution_count": 17,
   "metadata": {},
   "outputs": [
    {
     "data": {
      "text/plain": [
       "{'boxes': [<matplotlib.lines.Line2D at 0x8ba3550>],\n",
       " 'caps': [<matplotlib.lines.Line2D at 0x8baa0b8>,\n",
       "  <matplotlib.lines.Line2D at 0x8baa518>],\n",
       " 'fliers': [],\n",
       " 'means': [],\n",
       " 'medians': [<matplotlib.lines.Line2D at 0x8baa978>],\n",
       " 'whiskers': [<matplotlib.lines.Line2D at 0x8ba36d8>,\n",
       "  <matplotlib.lines.Line2D at 0x8ba3c18>]}"
      ]
     },
     "execution_count": 17,
     "metadata": {},
     "output_type": "execute_result"
    }
   ],
   "source": [
    "fig4, ax4 = plt.subplots()\n",
    "ax4.set_title('Hide Outlier Points')\n",
    "ax4.boxplot(data, showfliers=False)"
   ]
  },
  {
   "cell_type": "code",
   "execution_count": 18,
   "metadata": {},
   "outputs": [
    {
     "data": {
      "image/png": "[encoded data removed]",
      "text/plain": [
       "<matplotlib.figure.Figure at 0x8b0a240>"
      ]
     },
     "metadata": {},
     "output_type": "display_data"
    }
   ],
   "source": [
    "plt.show()"
   ]
  },
  {
   "cell_type": "code",
   "execution_count": null,
   "metadata": {
    "collapsed": true
   },
   "outputs": [],
   "source": []
  },
  {
   "cell_type": "code",
   "execution_count": 13,
   "metadata": {},
   "outputs": [
    {
     "data": {
      "image/png": "[encoded data removed]",
      "text/plain": [
       "<matplotlib.figure.Figure at 0x94c1e48>"
      ]
     },
     "metadata": {},
     "output_type": "display_data"
    }
   ],
   "source": [
    "u = u\"\"\"index,location,price\n",
    "    Dec 14,Darogue,15.0\n",
    "    Dec 14,Darogue,45.0\n",
    "    Dec 14,Darogue,50.0\n",
    "    Dec 14,Darogue,120.0\n",
    "    Dec 14,Darogue,300.0\"\"\"\n",
    "\n",
    "import io\n",
    "import pandas as pd\n",
    "import matplotlib.pyplot as plt\n",
    "\n",
    "data = io.StringIO(u)\n",
    "\n",
    "df = pd.read_csv(data, sep=\",\", index_col=0)\n",
    "\n",
    "plt.boxplot(df[\"price\"])\n",
    "plt.show()"
   ]
  },
  {
   "cell_type": "markdown",
   "metadata": {},
   "source": [
    "####  The five number summary the sample minimum, the lower quartile or the first quartile, the median, the upper quartile or the third quartile and the sample maximum. \n",
    "#### In the boxplot we draw a box from the first quartile and the third quartile, a vertical line goes throught the box at the median, then the whiskers go from each quartile to the minimum or maximum.\n"
   ]
  },
  {
   "cell_type": "code",
   "execution_count": null,
   "metadata": {
    "collapsed": true
   },
   "outputs": [],
   "source": [
    "%matplotlib inline\n",
    "import numpy as np\n",
    "import matplotlib.pyplot as plt\n",
    "import pandas as pd\n",
    "import seaborn as sns\n",
    "from random import randint\n",
    "import scipy.stats as stats\n",
    "from pandas.tols.plotting import scatter_matrix\n",
    "pd.set_option('display.width', 400)\n",
    "pd.set_option('display.max_columns', 40)"
   ]
  },
  {
   "cell_type": "code",
   "execution_count": null,
   "metadata": {
    "collapsed": true
   },
   "outputs": [],
   "source": [
    "pd.read_csv()"
   ]
  },
  {
   "cell_type": "markdown",
   "metadata": {},
   "source": [
    "### Example & Explanation of  Finding the five-number summary and of the term Quartile\n",
    "A sample of 101010 boxes of raisins has these weights (in grams):\n",
    "252525, 282828, 292929, 292929, 303030, 343434, 353535, 353535, 373737, 383838\n",
    "Make a box plot of the data.\n",
    "Step 1: Order the data from smallest to largest.\n",
    "Our data is already in order.\n",
    "252525, 282828, 292929, 292929, 303030, 343434, 353535, 353535, 373737, 383838\n",
    "Step 2: Find the median.\n",
    "The median is the mean of the middle two numbers:\n",
    "252525, 282828, 292929, 292929, 30\\large{30}30, 34\\large{34}34, 353535, 353535, 373737, 383838\n",
    "30+34/2​=32\n",
    "The median is 323232.\n",
    "Step 3: Find the quartiles.\n",
    "The first quartile is the median of the data points to the left of the median.\n",
    "252525, 282828, 29\\large{29}29, 292929, 303030\n",
    "Q1​=29\n",
    "The third quartile is the median of the data points to the right of the median.\n",
    "343434, 353535, 35\\large{35}35, 373737, 383838\n",
    "Q3=35Q_3=35Q3​=35\n",
    "Step 4: Complete the five-number summary by finding the min and the max.\n",
    "The min is the smallest data point, which is 252525.\n",
    "The max is the largest data point, which is 383838.\n",
    "The five-number summary is 252525, 292929, 323232, 353535, 383838. "
   ]
  },
  {
   "cell_type": "markdown",
   "metadata": {},
   "source": [
    "The boxplot is used when we have large amounts of data that need organising and it visualises the outlier values. An example of situations it could be used in is in measuring weather and temperatures where the dataset would contain all the weather data inclduing the temperature from all the weather stations in a partcular country during a specific time period. They would use teh average daily temperature caculated over a 24 hour period in celsius. The boxplot would containg the the following data properties, Dimension which would measure both date and year ensuring date comes first is very important. The second data property is Measure to measure the temperature degrees in celsius. The boxplot will show a visualisation of the daily temperture measurements, in the mean temperature order, which is illustrated by the middle line in each box. The box then stretches form the first quartile to the third quartile adn the whiskers stretch 1.5 inter quartile ranges. There are also other values that lie outside the whiskers which are call outlier values. "
   ]
  },
  {
   "cell_type": "markdown",
   "metadata": {},
   "source": [
    "### Demonstration of a boxplot with simple data."
   ]
  },
  {
   "cell_type": "code",
   "execution_count": 25,
   "metadata": {
    "scrolled": true
   },
   "outputs": [
    {
     "data": {
      "text/plain": [
       "<matplotlib.axes._subplots.AxesSubplot at 0xbe55d68>"
      ]
     },
     "execution_count": 25,
     "metadata": {},
     "output_type": "execute_result"
    }
   ],
   "source": [
    "import pandas as pd\n",
    "import numpy as np\n",
    "# using numpy.random to generate nos form 10-5 using colsumns a,b,c,d,e.\n",
    "df = pd.DataFrame(np.random.rand(10, 5), columns=['A', 'B', 'C', 'D', 'E'])\n",
    "df.plot.box(grid='True')\n",
    " "
   ]
  },
  {
   "cell_type": "code",
   "execution_count": 26,
   "metadata": {},
   "outputs": [
    {
     "data": {
      "image/png": "[encoded data removed]",
      "text/plain": [
       "<matplotlib.figure.Figure at 0xbe3b160>"
      ]
     },
     "metadata": {},
     "output_type": "display_data"
    }
   ],
   "source": [
    "# show plot\n",
    "plt.show()"
   ]
  },
  {
   "cell_type": "markdown",
   "metadata": {},
   "source": [
    "# Explanation of the term Percentile"
   ]
  },
  {
   "cell_type": "markdown",
   "metadata": {},
   "source": [
    "#### A percentile is a number where a certain percentage of scores fall below that number. For example if your result is 67 out of 90 in a test, well that has no real meaning if you dont know what percentile you fall into. But if you know you are in the 90th percentile then you know you scored higher than 90 percent of the people who took the test. In personal experience percentile is used a lot in childrens developmental charts to show simply where your child is at towards the rest of the children in that paricular age range and so on giving a good indicator to how your child is developing towards the percentige of other children in regards to weight and height and so on. "
   ]
  },
  {
   "cell_type": "markdown",
   "metadata": {},
   "source": [
    "## Defintion 1 of Percentile"
   ]
  },
  {
   "cell_type": "markdown",
   "metadata": {},
   "source": [
    "#### The nth percentile is the lowest score that is greater than a certain percentage (“n”) of the scores. In this example, our n is 25, so we’re looking for the lowest score that is greater than 25%. "
   ]
  },
  {
   "cell_type": "markdown",
   "metadata": {},
   "source": [
    "# Defintion 2 of Percentile."
   ]
  },
  {
   "cell_type": "markdown",
   "metadata": {},
   "source": [
    "#### Definition 2: The nth percentile is the smallest score that is greater than or equal to a certain percentage of the scores. To rephrase this, it’s the percentage of data that falls at or below a certain observation. This is the definition used in AP statistics. In this example, the 25th percentile is the score that’s greater or equal to 25% of the scores.\n",
    "\n",
    "They may seem very similar, but they can lead to big differences in results, although they are both the 25th percentile rank. Take the following list of test scores, ordered by rank:\n",
    "Score \n",
    "30 \t\n",
    "33 \t\n",
    "43 \t\n",
    "53 \t\n",
    "56 \t\n",
    "67 \t\n",
    "68 \t\n",
    "72 \t"
   ]
  },
  {
   "cell_type": "markdown",
   "metadata": {},
   "source": [
    "### Rank \n",
    "1\n",
    "2\n",
    "3\n",
    "4\n",
    "5\n",
    "6\n",
    "7"
   ]
  },
  {
   "cell_type": "markdown",
   "metadata": {},
   "source": [
    "# Defintion 3 of Percentile"
   ]
  },
  {
   "cell_type": "markdown",
   "metadata": {},
   "source": [
    "####  Is a  weighted mean of the percentiles from the first two definitions. "
   ]
  },
  {
   "cell_type": "markdown",
   "metadata": {},
   "source": [
    "# A Percentile range"
   ]
  },
  {
   "cell_type": "markdown",
   "metadata": {},
   "source": [
    "#### A percentile range is the difference between two specified percentiles. these could theoretically be any two percentiles, but the 10-90 percentile range is the most common. To find the 10-90 percentile range:\n",
    "\n",
    "    Calculate the 10th percentile using the above steps.\n",
    "    Calculate the 90th percentile using the above steps.\n",
    "    Subtract Step 1 (the 10th percentile) from Step 2 (the 90th percentile).\n"
   ]
  },
  {
   "cell_type": "code",
   "execution_count": null,
   "metadata": {
    "collapsed": true
   },
   "outputs": [],
   "source": []
  }
 ],
 "metadata": {
  "kernelspec": {
   "display_name": "Python 3",
   "language": "python",
   "name": "python3"
  },
  "language_info": {
   "codemirror_mode": {
    "name": "ipython",
    "version": 3
   },
   "file_extension": ".py",
   "mimetype": "text/x-python",
   "name": "python",
   "nbconvert_exporter": "python",
   "pygments_lexer": "ipython3",
   "version": "3.6.3"
  }
 },
 "nbformat": 4,
 "nbformat_minor": 2
}
