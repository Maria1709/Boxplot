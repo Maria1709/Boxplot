{
 "cells": [
  {
   "cell_type": "markdown",
   "metadata": {},
   "source": [
    "# Summary of the history of the box plot."
   ]
  },
  {
   "cell_type": "markdown",
   "metadata": {},
   "source": [
    "#### A box plot is a visual represenation of the statistical five number summary a the data set that is given.\n",
    "#### This includes \n",
    "  ####                    1.Minimum\n",
    "  ####                    2.First Quartile\n",
    "  ####                    3.Median (second quartile)\n",
    "  ####                   4. Third quartile\n",
    "  ####                   5. Maximum"
   ]
  },
  {
   "cell_type": "markdown",
   "metadata": {},
   "source": [
    "#### Mathematican John Tukey was the first to introduce the Box and WHisker plot in 1969 to show a visual summery of the five number summary of any given data set. A man called Hadley Williams describes them, he says boxplots use robust summary statistics that are always located at  actual data points, are quickly computable and have no tuning parameters, and are usefull to compare distributions across groups.\n",
    "#### The chartio version is the closest to the original and is used to take a subset of data and quickly and visually show the  five number summary data set. But in the chartio version it has a tool tip is provided that shows all of the data points summarised in the visualisation."
   ]
  },
  {
   "cell_type": "markdown",
   "metadata": {},
   "source": [
    "### Example of a boxplot"
   ]
  },
  {
   "cell_type": "code",
   "execution_count": 6,
   "metadata": {
    "collapsed": true
   },
   "outputs": [],
   "source": [
    "import numpy as np\n",
    "import matplotlib.pyplot as plt\n",
    "\n",
    "# Fixing random state for reproducibility\n",
    "np.random.seed(19680801)\n",
    "\n",
    "# generate random nos in 50s\n",
    "spread = np.random.rand(50) * 120\n",
    "# center boxplot 25 x 50\n",
    "center = np.ones(25) * 50\n",
    "flier_high = np.random.rand(10) * 120 + 120\n",
    "flier_low = np.random.rand(10) * -120\n",
    "data = np.concatenate((spread, center, flier_high, flier_low))"
   ]
  },
  {
   "cell_type": "code",
   "execution_count": 20,
   "metadata": {},
   "outputs": [
    {
     "data": {
      "text/plain": [
       "{'boxes': [<matplotlib.lines.Line2D at 0xbbf88d0>],\n",
       " 'caps': [<matplotlib.lines.Line2D at 0xbc02438>,\n",
       "  <matplotlib.lines.Line2D at 0xbc02898>],\n",
       " 'fliers': [<matplotlib.lines.Line2D at 0xbc0b198>],\n",
       " 'means': [],\n",
       " 'medians': [<matplotlib.lines.Line2D at 0xbc02cf8>],\n",
       " 'whiskers': [<matplotlib.lines.Line2D at 0xbbf8a58>,\n",
       "  <matplotlib.lines.Line2D at 0xbbf8f98>]}"
      ]
     },
     "execution_count": 20,
     "metadata": {},
     "output_type": "execute_result"
    }
   ],
   "source": [
    "# using basic plot\n",
    "fig1, ax1 = plt.subplots()\n",
    "ax1.set_title('Basic Plot')\n",
    "ax1.boxplot(data)"
   ]
  },
  {
   "cell_type": "code",
   "execution_count": 21,
   "metadata": {},
   "outputs": [
    {
     "data": {
      "image/png": "[encoded data removed]",
      "text/plain": [
       "<matplotlib.figure.Figure at 0x6fd74e0>"
      ]
     },
     "metadata": {},
     "output_type": "display_data"
    },
    {
     "data": {
      "image/png": "[encoded data removed]",
      "text/plain": [
       "<matplotlib.figure.Figure at 0xbbcb080>"
      ]
     },
     "metadata": {},
     "output_type": "display_data"
    }
   ],
   "source": [
    "plt.show()"
   ]
  },
  {
   "cell_type": "code",
   "execution_count": 22,
   "metadata": {},
   "outputs": [
    {
     "data": {
      "text/plain": [
       "{'boxes': [<matplotlib.lines.Line2D at 0xbc81080>],\n",
       " 'caps': [<matplotlib.lines.Line2D at 0xbc81ba8>,\n",
       "  <matplotlib.lines.Line2D at 0xbc8a048>],\n",
       " 'fliers': [<matplotlib.lines.Line2D at 0xbc8a908>],\n",
       " 'means': [],\n",
       " 'medians': [<matplotlib.lines.Line2D at 0xbc8a4a8>],\n",
       " 'whiskers': [<matplotlib.lines.Line2D at 0xbc81208>,\n",
       "  <matplotlib.lines.Line2D at 0xbc81748>]}"
      ]
     },
     "execution_count": 22,
     "metadata": {},
     "output_type": "execute_result"
    }
   ],
   "source": [
    "# population = follwoing numbers of people\n",
    "populationData = [8000000000, 12000000000, 6000000000, 75000000000, 1000000000, 120000000000, 150000000000]\n",
    "#plot boxplot showing population data\n",
    "plt.boxplot(populationData)"
   ]
  },
  {
   "cell_type": "code",
   "execution_count": 23,
   "metadata": {},
   "outputs": [
    {
     "data": {
      "image/png": "[encoded data removed]",
      "text/plain": [
       "<matplotlib.figure.Figure at 0x6fcbba8>"
      ]
     },
     "metadata": {},
     "output_type": "display_data"
    }
   ],
   "source": [
    "#show boxplot\n",
    "plt.show()"
   ]
  },
  {
   "cell_type": "code",
   "execution_count": 24,
   "metadata": {},
   "outputs": [
    {
     "data": {
      "image/png": "[encoded data removed]",
      "text/plain": [
       "<matplotlib.figure.Figure at 0xbc77f60>"
      ]
     },
     "metadata": {},
     "output_type": "display_data"
    }
   ],
   "source": [
    "populationData = [8000000000, 12000000000, 6000000000, 75000000000, 1000000000, 120000000000, 150000000000]\n",
    "plt.boxplot(populationData)\n",
    "# i now want to add title to top named population data\n",
    "plt.title(\"population data\")\n",
    "# i now add a label to the y axes naming it ammount of people\n",
    "plt.ylabel(\"Ammount of people\")\n",
    "plt.show()"
   ]
  },
  {
   "cell_type": "code",
   "execution_count": null,
   "metadata": {
    "collapsed": true
   },
   "outputs": [],
   "source": [
    "pwd"
   ]
  },
  {
   "cell_type": "code",
   "execution_count": null,
   "metadata": {
    "collapsed": true
   },
   "outputs": [],
   "source": [
    "import pandas as pd\n",
    "population = pd.read_csv(\"C:\\Users\\Maria O Sullivan\\Desktop\\test boxplot\\Test-boxplot\\population_data.csv\")\n",
    "print (population)"
   ]
  },
  {
   "cell_type": "code",
   "execution_count": null,
   "metadata": {},
   "outputs": [],
   "source": [
    "#top five rows of data\n",
    "population.head()"
   ]
  },
  {
   "cell_type": "code",
   "execution_count": null,
   "metadata": {},
   "outputs": [],
   "source": [
    "# column names in the population data set\n",
    "population.columns"
   ]
  },
  {
   "cell_type": "code",
   "execution_count": 21,
   "metadata": {},
   "outputs": [
    {
     "data": {
      "image/png": "[encoded data removed]",
      "text/plain": [
       "<matplotlib.figure.Figure at 0xc269550>"
      ]
     },
     "metadata": {},
     "output_type": "display_data"
    }
   ],
   "source": [
    "# plot a boxplot for the vacant houses column\n",
    "plt.boxplot(population['P_VACANT_HOUSES_LESS_HH11'])\n",
    "# title to be vacant houses less hh11\n",
    "plt.title(\"P_VACANT_HOUSES_LESS_HH11\")\n",
    "# plot label on y axis is to be ammount of people\n",
    "plt.ylabel(\"Ammount of people\")\n",
    "# show plot\n",
    "plt.show()"
   ]
  },
  {
   "cell_type": "code",
   "execution_count": 8,
   "metadata": {},
   "outputs": [
    {
     "ename": "NameError",
     "evalue": "name 'population' is not defined",
     "output_type": "error",
     "traceback": [
      "\u001b[1;31m---------------------------------------------------------------------------\u001b[0m",
      "\u001b[1;31mNameError\u001b[0m                                 Traceback (most recent call last)",
      "\u001b[1;32m<ipython-input-8-9cee620dcdde>\u001b[0m in \u001b[0;36m<module>\u001b[1;34m()\u001b[0m\n\u001b[0;32m      1\u001b[0m \u001b[1;31m#plot a boxplot for population column\u001b[0m\u001b[1;33m\u001b[0m\u001b[1;33m\u001b[0m\u001b[0m\n\u001b[1;32m----> 2\u001b[1;33m \u001b[0mplt\u001b[0m\u001b[1;33m.\u001b[0m\u001b[0mboxplot\u001b[0m\u001b[1;33m(\u001b[0m\u001b[0mpopulation\u001b[0m\u001b[1;33m[\u001b[0m\u001b[1;34m'POPULATION_02'\u001b[0m\u001b[1;33m]\u001b[0m\u001b[1;33m)\u001b[0m\u001b[1;33m\u001b[0m\u001b[0m\n\u001b[0m\u001b[0;32m      3\u001b[0m \u001b[1;31m# title to be population data\u001b[0m\u001b[1;33m\u001b[0m\u001b[1;33m\u001b[0m\u001b[0m\n\u001b[0;32m      4\u001b[0m \u001b[0mplt\u001b[0m\u001b[1;33m.\u001b[0m\u001b[0mtitle\u001b[0m\u001b[1;33m(\u001b[0m\u001b[1;34m\"population data\"\u001b[0m\u001b[1;33m)\u001b[0m\u001b[1;33m\u001b[0m\u001b[0m\n\u001b[0;32m      5\u001b[0m \u001b[1;31m# on y axis ammount of people\u001b[0m\u001b[1;33m\u001b[0m\u001b[1;33m\u001b[0m\u001b[0m\n",
      "\u001b[1;31mNameError\u001b[0m: name 'population' is not defined"
     ]
    }
   ],
   "source": [
    "#plot a boxplot for population column\n",
    "plt.boxplot(population['POPULATION_02'])\n",
    "# title to be population data\n",
    "plt.title(\"population data\")\n",
    "# on y axis ammount of people\n",
    "plt.ylabel(\"Ammount of people\")\n",
    "# show plot\n",
    "plt.show()"
   ]
  },
  {
   "cell_type": "code",
   "execution_count": 9,
   "metadata": {},
   "outputs": [
    {
     "ename": "NameError",
     "evalue": "name 'population' is not defined",
     "output_type": "error",
     "traceback": [
      "\u001b[1;31m---------------------------------------------------------------------------\u001b[0m",
      "\u001b[1;31mNameError\u001b[0m                                 Traceback (most recent call last)",
      "\u001b[1;32m<ipython-input-9-adfc43a6d579>\u001b[0m in \u001b[0;36m<module>\u001b[1;34m()\u001b[0m\n\u001b[0;32m      1\u001b[0m \u001b[1;31m# plot a boxplot for population 06 column\u001b[0m\u001b[1;33m\u001b[0m\u001b[1;33m\u001b[0m\u001b[0m\n\u001b[1;32m----> 2\u001b[1;33m \u001b[0mplt\u001b[0m\u001b[1;33m.\u001b[0m\u001b[0mboxplot\u001b[0m\u001b[1;33m(\u001b[0m\u001b[0mpopulation\u001b[0m\u001b[1;33m[\u001b[0m\u001b[1;34m'POPULATION_06'\u001b[0m\u001b[1;33m]\u001b[0m\u001b[1;33m)\u001b[0m\u001b[1;33m\u001b[0m\u001b[0m\n\u001b[0m\u001b[0;32m      3\u001b[0m \u001b[1;31m# title to be population 06\u001b[0m\u001b[1;33m\u001b[0m\u001b[1;33m\u001b[0m\u001b[0m\n\u001b[0;32m      4\u001b[0m \u001b[0mplt\u001b[0m\u001b[1;33m.\u001b[0m\u001b[0mtitle\u001b[0m\u001b[1;33m(\u001b[0m\u001b[1;34m\"P_VACANT_HOUSES_LESS_HH11\"\u001b[0m\u001b[1;33m)\u001b[0m\u001b[1;33m\u001b[0m\u001b[0m\n\u001b[0;32m      5\u001b[0m \u001b[1;31m# on y axis ammount of people\u001b[0m\u001b[1;33m\u001b[0m\u001b[1;33m\u001b[0m\u001b[0m\n",
      "\u001b[1;31mNameError\u001b[0m: name 'population' is not defined"
     ]
    }
   ],
   "source": [
    "# plot a boxplot for population 06 column\n",
    "plt.boxplot(population['POPULATION_06'])\n",
    "# title to be population 06\n",
    "plt.title(\"P_VACANT_HOUSES_LESS_HH11\")\n",
    "# on y axis ammount of people\n",
    "plt.ylabel(\"Ammount of people\")  \n",
    "# show plot\n",
    "plt.show()"
   ]
  },
  {
   "cell_type": "code",
   "execution_count": 26,
   "metadata": {},
   "outputs": [
    {
     "data": {
      "text/plain": [
       "{'boxes': [<matplotlib.lines.Line2D at 0xb05f710>],\n",
       " 'caps': [<matplotlib.lines.Line2D at 0xc1b7048>,\n",
       "  <matplotlib.lines.Line2D at 0xc1b7908>],\n",
       " 'fliers': [<matplotlib.lines.Line2D at 0xc1b76d8>],\n",
       " 'means': [],\n",
       " 'medians': [<matplotlib.lines.Line2D at 0xc1b72e8>],\n",
       " 'whiskers': [<matplotlib.lines.Line2D at 0xb05f780>,\n",
       "  <matplotlib.lines.Line2D at 0xb05f438>]}"
      ]
     },
     "execution_count": 26,
     "metadata": {},
     "output_type": "execute_result"
    }
   ],
   "source": [
    "# in this one we are using nothced boxes \n",
    "fig2, ax2 = plt.subplots()\n",
    "ax2.set_title('Notched boxes')\n",
    "ax2.boxplot(data, notch=True)"
   ]
  },
  {
   "cell_type": "code",
   "execution_count": 13,
   "metadata": {},
   "outputs": [
    {
     "data": {
      "image/png": "[encoded data removed]",
      "text/plain": [
       "<matplotlib.figure.Figure at 0xab69128>"
      ]
     },
     "metadata": {},
     "output_type": "display_data"
    }
   ],
   "source": [
    "plt.show()"
   ]
  },
  {
   "cell_type": "code",
   "execution_count": 32,
   "metadata": {},
   "outputs": [
    {
     "data": {
      "text/plain": [
       "{'boxes': [<matplotlib.lines.Line2D at 0xade34e0>],\n",
       " 'caps': [<matplotlib.lines.Line2D at 0xae16048>,\n",
       "  <matplotlib.lines.Line2D at 0xae164a8>],\n",
       " 'fliers': [<matplotlib.lines.Line2D at 0xae16d68>],\n",
       " 'means': [],\n",
       " 'medians': [<matplotlib.lines.Line2D at 0xae16908>],\n",
       " 'whiskers': [<matplotlib.lines.Line2D at 0xade3668>,\n",
       "  <matplotlib.lines.Line2D at 0xade3ba8>]}"
      ]
     },
     "execution_count": 32,
     "metadata": {},
     "output_type": "execute_result"
    }
   ],
   "source": [
    "green_diamond = dict(markerfacecolor='g', marker='D')\n",
    "fig3, ax3 = plt.subplots()\n",
    "ax3.set_title('Population')\n",
    "ax3.boxplot(data, flierprops=green_diamond)"
   ]
  },
  {
   "cell_type": "code",
   "execution_count": 33,
   "metadata": {},
   "outputs": [
    {
     "data": {
      "image/png": "[encoded data removed]",
      "text/plain": [
       "<matplotlib.figure.Figure at 0xc227160>"
      ]
     },
     "metadata": {},
     "output_type": "display_data"
    },
    {
     "data": {
      "image/png": "[encoded data removed]",
      "text/plain": [
       "<matplotlib.figure.Figure at 0xaebec18>"
      ]
     },
     "metadata": {},
     "output_type": "display_data"
    }
   ],
   "source": [
    "plt.show()"
   ]
  },
  {
   "cell_type": "code",
   "execution_count": 34,
   "metadata": {},
   "outputs": [
    {
     "data": {
      "text/plain": [
       "{'boxes': [<matplotlib.lines.Line2D at 0xaf8df60>],\n",
       " 'caps': [<matplotlib.lines.Line2D at 0xaf71ac8>,\n",
       "  <matplotlib.lines.Line2D at 0xaf71f28>],\n",
       " 'fliers': [],\n",
       " 'means': [],\n",
       " 'medians': [<matplotlib.lines.Line2D at 0xaf903c8>],\n",
       " 'whiskers': [<matplotlib.lines.Line2D at 0xaf71128>,\n",
       "  <matplotlib.lines.Line2D at 0xaf71668>]}"
      ]
     },
     "execution_count": 34,
     "metadata": {},
     "output_type": "execute_result"
    }
   ],
   "source": [
    "fig4, ax4 = plt.subplots()\n",
    "#hiding outlier points\n",
    "ax4.set_title('POPULATION')\n",
    "ax4.boxplot(data, showfliers=False)"
   ]
  },
  {
   "cell_type": "code",
   "execution_count": 37,
   "metadata": {
    "collapsed": true
   },
   "outputs": [],
   "source": [
    "plt.show()"
   ]
  },
  {
   "cell_type": "code",
   "execution_count": 41,
   "metadata": {},
   "outputs": [
    {
     "data": {
      "image/png": "[encoded data removed]",
      "text/plain": [
       "<matplotlib.figure.Figure at 0xadc7e48>"
      ]
     },
     "metadata": {},
     "output_type": "display_data"
    }
   ],
   "source": [
    "u = u\"\"\"index,location,population\n",
    "    Dec 14,Darogue,15.0\n",
    "    Dec 14,Darogue,45.0\n",
    "    Dec 14,Darogue,50.0\n",
    "    Dec 14,Darogue,120.0\n",
    "    Dec 14,Darogue,300.0\"\"\"\n",
    "\n",
    "import io\n",
    "import pandas as pd\n",
    "import matplotlib.pyplot as plt\n",
    "\n",
    "data = io.StringIO(u)\n",
    "\n",
    "df = pd.read_csv(data, sep=\",\", index_col=0)\n",
    "\n",
    "plt.boxplot(df[\"population\"])\n",
    "plt.title(\"P_VACANT_HOUSES_LESS_HH11\")\n",
    "plt.ylabel(\"Ammount of people\")     \n",
    "plt.show()"
   ]
  },
  {
   "cell_type": "markdown",
   "metadata": {},
   "source": [
    "####  The five number summary the sample minimum, the lower quartile or the first quartile, the median, the upper quartile or the third quartile and the sample maximum. \n",
    "#### In the boxplot we draw a box from the first quartile and the third quartile, a vertical line goes throught the box at the median, then the whiskers go from each quartile to the minimum or maximum.\n"
   ]
  },
  {
   "cell_type": "markdown",
   "metadata": {},
   "source": [
    "### Example & Explanation of  Finding the five-number summary and of the term Quartile\n",
    "A sample of 101010 boxes of raisins has these weights (in grams):\n",
    "252525, 282828, 292929, 292929, 303030, 343434, 353535, 353535, 373737, 383838\n",
    "Make a box plot of the data.\n",
    "Step 1: Order the data from smallest to largest.\n",
    "Our data is already in order.\n",
    "252525, 282828, 292929, 292929, 303030, 343434, 353535, 353535, 373737, 383838\n",
    "Step 2: Find the median.\n",
    "The median is the mean of the middle two numbers:\n",
    "252525, 282828, 292929, 292929, 30\\large{30}30, 34\\large{34}34, 353535, 353535, 373737, 383838\n",
    "30+34/2​=32\n",
    "The median is 323232.\n",
    "Step 3: Find the quartiles.\n",
    "The first quartile is the median of the data points to the left of the median.\n",
    "252525, 282828, 29\\large{29}29, 292929, 303030\n",
    "Q1​=29\n",
    "The third quartile is the median of the data points to the right of the median.\n",
    "343434, 353535, 35\\large{35}35, 373737, 383838\n",
    "Q3=35Q_3=35Q3​=35\n",
    "Step 4: Complete the five-number summary by finding the min and the max.\n",
    "The min is the smallest data point, which is 252525.\n",
    "The max is the largest data point, which is 383838.\n",
    "The five-number summary is 252525, 292929, 323232, 353535, 383838. "
   ]
  },
  {
   "cell_type": "markdown",
   "metadata": {},
   "source": [
    "The boxplot is used when we have large amounts of data that need organising and it visualises the outlier values. An example of situations it could be used in is in measuring weather and temperatures where the dataset would contain all the weather data inclduing the temperature from all the weather stations in a partcular country during a specific time period. They would use teh average daily temperature caculated over a 24 hour period in celsius. The boxplot would containg the the following data properties, Dimension which would measure both date and year ensuring date comes first is very important. The second data property is Measure to measure the temperature degrees in celsius. The boxplot will show a visualisation of the daily temperture measurements, in the mean temperature order, which is illustrated by the middle line in each box. The box then stretches form the first quartile to the third quartile adn the whiskers stretch 1.5 inter quartile ranges. There are also other values that lie outside the whiskers which are call outlier values. "
   ]
  },
  {
   "cell_type": "markdown",
   "metadata": {},
   "source": [
    "### Demonstration of a boxplot with simple data."
   ]
  },
  {
   "cell_type": "code",
   "execution_count": 44,
   "metadata": {
    "scrolled": true
   },
   "outputs": [
    {
     "data": {
      "text/plain": [
       "<matplotlib.axes._subplots.AxesSubplot at 0xc4266d8>"
      ]
     },
     "execution_count": 44,
     "metadata": {},
     "output_type": "execute_result"
    }
   ],
   "source": [
    "import pandas as pd\n",
    "import numpy as np\n",
    "# using numpy.random to generate nos form 10-5 using colsumns a,b,c,d,e.\n",
    "df = pd.DataFrame(np.random.rand(100, 5), columns=['A', 'B', 'C', 'D', 'E' F, 'F' 'G' 'G' ])\n",
    "df.plot.box(grid='True')"
   ]
  },
  {
   "cell_type": "code",
   "execution_count": 42,
   "metadata": {},
   "outputs": [
    {
     "data": {
      "image/png": "[encoded data removed]",
      "text/plain": [
       "<matplotlib.figure.Figure at 0xad4ffd0>"
      ]
     },
     "metadata": {},
     "output_type": "display_data"
    }
   ],
   "source": [
    "# show plot\n",
    "plt.title(\"P_VACANT_HOUSES_LESS_HH11\")\n",
    "plt.ylabel(\"Ammount of people\")     \n",
    "plt.show()"
   ]
  },
  {
   "cell_type": "markdown",
   "metadata": {},
   "source": [
    "# Explanation of the term Percentile"
   ]
  },
  {
   "cell_type": "markdown",
   "metadata": {},
   "source": [
    "#### A percentile is a number where a certain percentage of scores fall below that number. For example if your result is 67 out of 90 in a test, well that has no real meaning if you dont know what percentile you fall into. But if you know you are in the 90th percentile then you know you scored higher than 90 percent of the people who took the test. In personal experience percentile is used a lot in childrens developmental charts to show simply where your child is at towards the rest of the children in that paricular age range and so on giving a good indicator to how your child is developing towards the percentige of other children in regards to weight and height and so on. "
   ]
  },
  {
   "cell_type": "markdown",
   "metadata": {},
   "source": [
    "## Defintion 1 of Percentile"
   ]
  },
  {
   "cell_type": "markdown",
   "metadata": {},
   "source": [
    "#### The nth percentile is the lowest score that is greater than a certain percentage (“n”) of the scores. In this example, our n is 25, so we’re looking for the lowest score that is greater than 25%. "
   ]
  },
  {
   "cell_type": "markdown",
   "metadata": {},
   "source": [
    "# Defintion 2 of Percentile."
   ]
  },
  {
   "cell_type": "markdown",
   "metadata": {},
   "source": [
    "#### Definition 2: The nth percentile is the smallest score that is greater than or equal to a certain percentage of the scores. To rephrase this, it’s the percentage of data that falls at or below a certain observation. This is the definition used in AP statistics. In this example, the 25th percentile is the score that’s greater or equal to 25% of the scores.\n",
    "\n",
    "They may seem very similar, but they can lead to big differences in results, although they are both the 25th percentile rank. Take the following list of test scores, ordered by rank:\n",
    "Score \n",
    "30 \t\n",
    "33 \t\n",
    "43 \t\n",
    "53 \t\n",
    "56 \t\n",
    "67 \t\n",
    "68 \t\n",
    "72 \t"
   ]
  },
  {
   "cell_type": "markdown",
   "metadata": {},
   "source": [
    "### Rank \n",
    "1\n",
    "2\n",
    "3\n",
    "4\n",
    "5\n",
    "6\n",
    "7"
   ]
  },
  {
   "cell_type": "markdown",
   "metadata": {},
   "source": [
    "# Defintion 3 of Percentile"
   ]
  },
  {
   "cell_type": "markdown",
   "metadata": {},
   "source": [
    "####  Is a  weighted mean of the percentiles from the first two definitions. "
   ]
  },
  {
   "cell_type": "markdown",
   "metadata": {},
   "source": [
    "# A Percentile range"
   ]
  },
  {
   "cell_type": "markdown",
   "metadata": {},
   "source": [
    "#### A percentile range is the difference between two specified percentiles. these could theoretically be any two percentiles, but the 10-90 percentile range is the most common. To find the 10-90 percentile range:\n",
    "\n",
    "    Calculate the 10th percentile using the above steps.\n",
    "    Calculate the 90th percentile using the above steps.\n",
    "    Subtract Step 1 (the 10th percentile) from Step 2 (the 90th percentile).\n"
   ]
  },
  {
   "cell_type": "markdown",
   "metadata": {
    "collapsed": true
   },
   "source": [
    "# End"
   ]
  },
  {
   "cell_type": "code",
   "execution_count": 1,
   "metadata": {},
   "outputs": [
    {
     "data": {
      "text/plain": [
       "12334"
      ]
     },
     "execution_count": 1,
     "metadata": {},
     "output_type": "execute_result"
    }
   ],
   "source": [
    "12334\n",
    "ddddddoooiiiii"
   ]
  }
 ],
 "metadata": {
  "kernelspec": {
   "display_name": "Python 3",
   "language": "python",
   "name": "python3"
  },
  "language_info": {
   "codemirror_mode": {
    "name": "ipython",
    "version": 3
   },
   "file_extension": ".py",
   "mimetype": "text/x-python",
   "name": "python",
   "nbconvert_exporter": "python",
   "pygments_lexer": "ipython3",
   "version": "3.6.3"
  }
 },
 "nbformat": 4,
 "nbformat_minor": 2
}
